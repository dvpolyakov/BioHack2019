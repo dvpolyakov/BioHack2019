{
 "cells": [
  {
   "cell_type": "code",
   "execution_count": 218,
   "metadata": {},
   "outputs": [],
   "source": [
    "import os\n",
    "import pandas as pd\n",
    "import numpy as np\n",
    "import re\n",
    "from sklearn.model_selection import train_test_split\n",
    "from sklearn.pipeline import make_pipeline\n",
    "from sklearn import svm\n",
    "from sklearn.ensemble import RandomForestClassifier\n",
    "from sklearn.preprocessing import StandardScaler\n",
    "from sklearn.model_selection import cross_val_score\n",
    "from sklearn.linear_model import LogisticRegression\n",
    "import numpy as np\n",
    "from sklearn.model_selection import GridSearchCV\n",
    "import matplotlib.pyplot as plt\n",
    "from sklearn.metrics import f1_score\n",
    "\n",
    "\n",
    "plt.figure(figsize=(20,20))\n",
    "%matplotlib inline"
   ]
  },
  {
   "cell_type": "code",
   "execution_count": 219,
   "metadata": {},
   "outputs": [],
   "source": [
    "df_1 = pd.read_csv(\"GSE22470_data_to_train.csv\", index_col='Unnamed: 0')\n",
    "df_2 = pd.read_csv(\"GSE11318_data_to_train.csv\", index_col='Unnamed: 0')\n",
    "df_3 = pd.read_csv(\"GSE4475_data_to_train.csv\", index_col='Unnamed: 0')\n",
    "df_4 = pd.read_csv(\"GSE93984_data_to_train.csv\", index_col='Unnamed: 0')"
   ]
  },
  {
   "cell_type": "code",
   "execution_count": 220,
   "metadata": {},
   "outputs": [],
   "source": [
    "df_test = pd.read_csv(\"GSE32918_data_to_train.csv\", index_col='Unnamed: 0')"
   ]
  },
  {
   "cell_type": "code",
   "execution_count": 221,
   "metadata": {},
   "outputs": [],
   "source": [
    "df_train = pd.concat([df_1, df_2, df_3, df_4])"
   ]
  },
  {
   "cell_type": "code",
   "execution_count": 222,
   "metadata": {},
   "outputs": [],
   "source": [
    "target = df_train['labels']"
   ]
  },
  {
   "cell_type": "code",
   "execution_count": 223,
   "metadata": {},
   "outputs": [],
   "source": [
    "df_train.drop(['labels'], inplace=True, axis=1)"
   ]
  },
  {
   "cell_type": "code",
   "execution_count": 224,
   "metadata": {},
   "outputs": [],
   "source": [
    "logit = LogisticRegression(penalty='l1', C=0.1)"
   ]
  },
  {
   "cell_type": "code",
   "execution_count": 225,
   "metadata": {},
   "outputs": [
    {
     "data": {
      "text/html": [
       "<div>\n",
       "<style scoped>\n",
       "    .dataframe tbody tr th:only-of-type {\n",
       "        vertical-align: middle;\n",
       "    }\n",
       "\n",
       "    .dataframe tbody tr th {\n",
       "        vertical-align: top;\n",
       "    }\n",
       "\n",
       "    .dataframe thead th {\n",
       "        text-align: right;\n",
       "    }\n",
       "</style>\n",
       "<table border=\"1\" class=\"dataframe\">\n",
       "  <thead>\n",
       "    <tr style=\"text-align: right;\">\n",
       "      <th></th>\n",
       "      <th>A1CF</th>\n",
       "      <th>A2M</th>\n",
       "      <th>A4GALT</th>\n",
       "      <th>A4GNT</th>\n",
       "      <th>AAAS</th>\n",
       "      <th>AACS</th>\n",
       "      <th>AADAC</th>\n",
       "      <th>AAK1</th>\n",
       "      <th>AAMDC</th>\n",
       "      <th>AAMP</th>\n",
       "      <th>...</th>\n",
       "      <th>ZSWIM1</th>\n",
       "      <th>ZSWIM8</th>\n",
       "      <th>ZW10</th>\n",
       "      <th>ZWILCH</th>\n",
       "      <th>ZWINT</th>\n",
       "      <th>ZXDB</th>\n",
       "      <th>ZXDC</th>\n",
       "      <th>ZYX</th>\n",
       "      <th>ZZEF1</th>\n",
       "      <th>ZZZ3</th>\n",
       "    </tr>\n",
       "  </thead>\n",
       "  <tbody>\n",
       "    <tr>\n",
       "      <th>GSM558119_MPI-261.CEL.gz</th>\n",
       "      <td>7.227702</td>\n",
       "      <td>NaN</td>\n",
       "      <td>6.934323</td>\n",
       "      <td>7.213379</td>\n",
       "      <td>8.592044</td>\n",
       "      <td>6.316235</td>\n",
       "      <td>5.516001</td>\n",
       "      <td>6.894618</td>\n",
       "      <td>4.703191</td>\n",
       "      <td>8.610761</td>\n",
       "      <td>...</td>\n",
       "      <td>6.204780</td>\n",
       "      <td>8.313261</td>\n",
       "      <td>8.649089</td>\n",
       "      <td>7.691923</td>\n",
       "      <td>9.535806</td>\n",
       "      <td>5.202033</td>\n",
       "      <td>6.705041</td>\n",
       "      <td>9.292993</td>\n",
       "      <td>6.865239</td>\n",
       "      <td>8.982133</td>\n",
       "    </tr>\n",
       "    <tr>\n",
       "      <th>GSM558120_MPI-262.CEL.gz</th>\n",
       "      <td>7.558352</td>\n",
       "      <td>NaN</td>\n",
       "      <td>7.438641</td>\n",
       "      <td>7.441406</td>\n",
       "      <td>8.895413</td>\n",
       "      <td>7.213418</td>\n",
       "      <td>6.093526</td>\n",
       "      <td>6.729649</td>\n",
       "      <td>4.726837</td>\n",
       "      <td>8.156253</td>\n",
       "      <td>...</td>\n",
       "      <td>6.579326</td>\n",
       "      <td>8.480116</td>\n",
       "      <td>8.493972</td>\n",
       "      <td>6.262247</td>\n",
       "      <td>9.193828</td>\n",
       "      <td>5.554108</td>\n",
       "      <td>7.269657</td>\n",
       "      <td>7.812140</td>\n",
       "      <td>7.042651</td>\n",
       "      <td>7.683246</td>\n",
       "    </tr>\n",
       "    <tr>\n",
       "      <th>GSM558121_MPI-269.CEL.gz</th>\n",
       "      <td>7.106426</td>\n",
       "      <td>NaN</td>\n",
       "      <td>6.909095</td>\n",
       "      <td>7.091694</td>\n",
       "      <td>8.975001</td>\n",
       "      <td>6.633507</td>\n",
       "      <td>5.586141</td>\n",
       "      <td>7.346134</td>\n",
       "      <td>4.694986</td>\n",
       "      <td>8.840265</td>\n",
       "      <td>...</td>\n",
       "      <td>6.211296</td>\n",
       "      <td>8.500464</td>\n",
       "      <td>8.200721</td>\n",
       "      <td>7.327180</td>\n",
       "      <td>10.197689</td>\n",
       "      <td>5.048205</td>\n",
       "      <td>7.230083</td>\n",
       "      <td>9.018365</td>\n",
       "      <td>6.565353</td>\n",
       "      <td>8.573599</td>\n",
       "    </tr>\n",
       "  </tbody>\n",
       "</table>\n",
       "<p>3 rows × 11648 columns</p>\n",
       "</div>"
      ],
      "text/plain": [
       "                              A1CF  A2M    A4GALT     A4GNT      AAAS  \\\n",
       "GSM558119_MPI-261.CEL.gz  7.227702  NaN  6.934323  7.213379  8.592044   \n",
       "GSM558120_MPI-262.CEL.gz  7.558352  NaN  7.438641  7.441406  8.895413   \n",
       "GSM558121_MPI-269.CEL.gz  7.106426  NaN  6.909095  7.091694  8.975001   \n",
       "\n",
       "                              AACS     AADAC      AAK1     AAMDC      AAMP  \\\n",
       "GSM558119_MPI-261.CEL.gz  6.316235  5.516001  6.894618  4.703191  8.610761   \n",
       "GSM558120_MPI-262.CEL.gz  7.213418  6.093526  6.729649  4.726837  8.156253   \n",
       "GSM558121_MPI-269.CEL.gz  6.633507  5.586141  7.346134  4.694986  8.840265   \n",
       "\n",
       "                          ...    ZSWIM1    ZSWIM8      ZW10    ZWILCH  \\\n",
       "GSM558119_MPI-261.CEL.gz  ...  6.204780  8.313261  8.649089  7.691923   \n",
       "GSM558120_MPI-262.CEL.gz  ...  6.579326  8.480116  8.493972  6.262247   \n",
       "GSM558121_MPI-269.CEL.gz  ...  6.211296  8.500464  8.200721  7.327180   \n",
       "\n",
       "                              ZWINT      ZXDB      ZXDC       ZYX     ZZEF1  \\\n",
       "GSM558119_MPI-261.CEL.gz   9.535806  5.202033  6.705041  9.292993  6.865239   \n",
       "GSM558120_MPI-262.CEL.gz   9.193828  5.554108  7.269657  7.812140  7.042651   \n",
       "GSM558121_MPI-269.CEL.gz  10.197689  5.048205  7.230083  9.018365  6.565353   \n",
       "\n",
       "                              ZZZ3  \n",
       "GSM558119_MPI-261.CEL.gz  8.982133  \n",
       "GSM558120_MPI-262.CEL.gz  7.683246  \n",
       "GSM558121_MPI-269.CEL.gz  8.573599  \n",
       "\n",
       "[3 rows x 11648 columns]"
      ]
     },
     "execution_count": 225,
     "metadata": {},
     "output_type": "execute_result"
    }
   ],
   "source": [
    "df_train[:3]"
   ]
  },
  {
   "cell_type": "code",
   "execution_count": 226,
   "metadata": {},
   "outputs": [],
   "source": [
    "df_train_clean = df_train.fillna(0)"
   ]
  },
  {
   "cell_type": "code",
   "execution_count": 227,
   "metadata": {},
   "outputs": [
    {
     "name": "stderr",
     "output_type": "stream",
     "text": [
      "/usr/local/lib/python3.5/dist-packages/sklearn/linear_model/logistic.py:433: FutureWarning: Default solver will be changed to 'lbfgs' in 0.22. Specify a solver to silence this warning.\n",
      "  FutureWarning)\n"
     ]
    },
    {
     "data": {
      "text/plain": [
       "LogisticRegression(C=0.1, class_weight=None, dual=False, fit_intercept=True,\n",
       "          intercept_scaling=1, max_iter=100, multi_class='warn',\n",
       "          n_jobs=None, penalty='l1', random_state=None, solver='warn',\n",
       "          tol=0.0001, verbose=0, warm_start=False)"
      ]
     },
     "execution_count": 227,
     "metadata": {},
     "output_type": "execute_result"
    }
   ],
   "source": [
    "logit.fit(df_train_clean[relevant_genes], target)"
   ]
  },
  {
   "cell_type": "code",
   "execution_count": 228,
   "metadata": {},
   "outputs": [],
   "source": [
    "test_y = df_test['labels']"
   ]
  },
  {
   "cell_type": "code",
   "execution_count": 229,
   "metadata": {},
   "outputs": [],
   "source": [
    "df_test.drop(['labels'], inplace=True, axis=1)"
   ]
  },
  {
   "cell_type": "code",
   "execution_count": 230,
   "metadata": {},
   "outputs": [],
   "source": [
    "df_test_clean = df_test.fillna(0)"
   ]
  },
  {
   "cell_type": "code",
   "execution_count": 231,
   "metadata": {},
   "outputs": [
    {
     "data": {
      "text/plain": [
       "0.6844444444444445"
      ]
     },
     "execution_count": 231,
     "metadata": {},
     "output_type": "execute_result"
    }
   ],
   "source": [
    "f1_score(logit.predict(df_test_clean[relevant_genes]), test_y)"
   ]
  },
  {
   "cell_type": "code",
   "execution_count": null,
   "metadata": {},
   "outputs": [],
   "source": []
  },
  {
   "cell_type": "code",
   "execution_count": null,
   "metadata": {},
   "outputs": [],
   "source": []
  },
  {
   "cell_type": "code",
   "execution_count": null,
   "metadata": {},
   "outputs": [],
   "source": []
  },
  {
   "cell_type": "code",
   "execution_count": null,
   "metadata": {},
   "outputs": [],
   "source": []
  },
  {
   "cell_type": "code",
   "execution_count": null,
   "metadata": {},
   "outputs": [],
   "source": []
  },
  {
   "cell_type": "code",
   "execution_count": null,
   "metadata": {},
   "outputs": [],
   "source": []
  },
  {
   "cell_type": "code",
   "execution_count": null,
   "metadata": {},
   "outputs": [],
   "source": []
  },
  {
   "cell_type": "code",
   "execution_count": 171,
   "metadata": {},
   "outputs": [],
   "source": [
    "relevant_genes = ['AUTS2', 'BATF', 'CCND2', 'CCR10', 'CCR7', 'COL1A2', 'CREB3L2',\n",
    "       'CYB5R2', 'DAAM1', 'DCN', 'FCMR', 'HIST1H1C', 'HOPX', 'JADE3',\n",
    "       'LMO2', 'LRMP', 'LUM', 'MME', 'MMP2', 'PLEKHF2', 'RAB29',\n",
    "       'RGCC', 'RUBCNL', 'SLA', 'SPP1', 'SSBP2', 'STAG3', 'TCF4', 'TGIF1',\n",
    "       'TNFRSF1B', 'VPREB3']"
   ]
  },
  {
   "cell_type": "code",
   "execution_count": 180,
   "metadata": {},
   "outputs": [],
   "source": [
    "df_combined_new = pd.concat([df_train_clean, df_test_clean])"
   ]
  },
  {
   "cell_type": "code",
   "execution_count": 198,
   "metadata": {},
   "outputs": [],
   "source": [
    "df_train_new = np.argsort(df_combined_new[relevant_genes], axis=1) + 1\n",
    "df_train_new = df_combined_new[:612]\n",
    "df_test_new = df_combined_new[612:]"
   ]
  },
  {
   "cell_type": "code",
   "execution_count": 199,
   "metadata": {},
   "outputs": [],
   "source": [
    "logit_2 = LogisticRegression(penalty='l1', C=0.1)"
   ]
  },
  {
   "cell_type": "code",
   "execution_count": 200,
   "metadata": {},
   "outputs": [
    {
     "name": "stderr",
     "output_type": "stream",
     "text": [
      "/usr/local/lib/python3.5/dist-packages/sklearn/linear_model/logistic.py:433: FutureWarning: Default solver will be changed to 'lbfgs' in 0.22. Specify a solver to silence this warning.\n",
      "  FutureWarning)\n"
     ]
    },
    {
     "data": {
      "text/plain": [
       "LogisticRegression(C=0.1, class_weight=None, dual=False, fit_intercept=True,\n",
       "          intercept_scaling=1, max_iter=100, multi_class='warn',\n",
       "          n_jobs=None, penalty='l1', random_state=None, solver='warn',\n",
       "          tol=0.0001, verbose=0, warm_start=False)"
      ]
     },
     "execution_count": 200,
     "metadata": {},
     "output_type": "execute_result"
    }
   ],
   "source": [
    "logit_2.fit(df_train_new, target)"
   ]
  },
  {
   "cell_type": "code",
   "execution_count": 202,
   "metadata": {},
   "outputs": [
    {
     "data": {
      "text/plain": [
       "0.6847826086956521"
      ]
     },
     "execution_count": 202,
     "metadata": {},
     "output_type": "execute_result"
    }
   ],
   "source": [
    "f1_score(logit_2.predict(df_test_new), test_y)"
   ]
  },
  {
   "cell_type": "code",
   "execution_count": null,
   "metadata": {},
   "outputs": [],
   "source": []
  }
 ],
 "metadata": {
  "kernelspec": {
   "display_name": "Python 3",
   "language": "python",
   "name": "python3"
  },
  "language_info": {
   "codemirror_mode": {
    "name": "ipython",
    "version": 3
   },
   "file_extension": ".py",
   "mimetype": "text/x-python",
   "name": "python",
   "nbconvert_exporter": "python",
   "pygments_lexer": "ipython3",
   "version": "3.5.2"
  }
 },
 "nbformat": 4,
 "nbformat_minor": 2
}
